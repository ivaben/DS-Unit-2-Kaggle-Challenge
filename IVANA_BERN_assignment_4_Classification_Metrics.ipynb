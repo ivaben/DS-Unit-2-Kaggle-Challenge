{
  "nbformat": 4,
  "nbformat_minor": 0,
  "metadata": {
    "colab": {
      "name": "IVANA_BERN_assignment_4_Classification Metrics.ipynb",
      "provenance": [],
      "collapsed_sections": [],
      "include_colab_link": true
    },
    "kernelspec": {
      "display_name": "Python 3",
      "language": "python",
      "name": "python3"
    },
    "language_info": {
      "codemirror_mode": {
        "name": "ipython",
        "version": 3
      },
      "file_extension": ".py",
      "mimetype": "text/x-python",
      "name": "python",
      "nbconvert_exporter": "python",
      "pygments_lexer": "ipython3",
      "version": "3.7.3"
    },
    "widgets": {
      "application/vnd.jupyter.widget-state+json": {
        "59e1edd1261d4fe3996de98773ed8f85": {
          "model_module": "@jupyter-widgets/controls",
          "model_name": "VBoxModel",
          "state": {
            "_view_name": "VBoxView",
            "_dom_classes": [
              "widget-interact"
            ],
            "_model_name": "VBoxModel",
            "_view_module": "@jupyter-widgets/controls",
            "_model_module_version": "1.5.0",
            "_view_count": null,
            "_view_module_version": "1.5.0",
            "box_style": "",
            "layout": "IPY_MODEL_deab339183fa4d11993863576d178e38",
            "_model_module": "@jupyter-widgets/controls",
            "children": [
              "IPY_MODEL_ffeee1b8620d40c793dabb6f67e10813",
              "IPY_MODEL_0c8c0cbba2d447c485ed90cf7eebcc30"
            ]
          }
        },
        "deab339183fa4d11993863576d178e38": {
          "model_module": "@jupyter-widgets/base",
          "model_name": "LayoutModel",
          "state": {
            "_view_name": "LayoutView",
            "grid_template_rows": null,
            "right": null,
            "justify_content": null,
            "_view_module": "@jupyter-widgets/base",
            "overflow": null,
            "_model_module_version": "1.2.0",
            "_view_count": null,
            "flex_flow": null,
            "width": null,
            "min_width": null,
            "border": null,
            "align_items": null,
            "bottom": null,
            "_model_module": "@jupyter-widgets/base",
            "top": null,
            "grid_column": null,
            "overflow_y": null,
            "overflow_x": null,
            "grid_auto_flow": null,
            "grid_area": null,
            "grid_template_columns": null,
            "flex": null,
            "_model_name": "LayoutModel",
            "justify_items": null,
            "grid_row": null,
            "max_height": null,
            "align_content": null,
            "visibility": null,
            "align_self": null,
            "height": null,
            "min_height": null,
            "padding": null,
            "grid_auto_rows": null,
            "grid_gap": null,
            "max_width": null,
            "order": null,
            "_view_module_version": "1.2.0",
            "grid_template_areas": null,
            "object_position": null,
            "object_fit": null,
            "grid_auto_columns": null,
            "margin": null,
            "display": null,
            "left": null
          }
        },
        "ffeee1b8620d40c793dabb6f67e10813": {
          "model_module": "@jupyter-widgets/controls",
          "model_name": "FloatSliderModel",
          "state": {
            "_view_name": "FloatSliderView",
            "style": "IPY_MODEL_215419e520d445848198b745e273ecb6",
            "_dom_classes": [],
            "description": "threshold",
            "step": 0.02,
            "_model_name": "FloatSliderModel",
            "orientation": "horizontal",
            "max": 1,
            "_view_module": "@jupyter-widgets/controls",
            "_model_module_version": "1.5.0",
            "value": 0.5,
            "_view_count": null,
            "disabled": false,
            "_view_module_version": "1.5.0",
            "min": 0,
            "continuous_update": true,
            "readout_format": ".2f",
            "description_tooltip": null,
            "readout": true,
            "_model_module": "@jupyter-widgets/controls",
            "layout": "IPY_MODEL_bedc91cc1916498095fc01a48f24638a"
          }
        },
        "0c8c0cbba2d447c485ed90cf7eebcc30": {
          "model_module": "@jupyter-widgets/output",
          "model_name": "OutputModel",
          "state": {
            "_view_name": "OutputView",
            "msg_id": "",
            "_dom_classes": [],
            "_model_name": "OutputModel",
            "outputs": [
              {
                "output_type": "display_data",
                "metadata": {
                  "tags": []
                },
                "image/png": "iVBORw0KGgoAAAANSUhEUgAAAX0AAAD4CAYAAAAAczaOAAAABHNCSVQICAgIfAhkiAAAAAlwSFlz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\nY0wAsaRvjDEBxJK+McYEkP8PA3YHkeDxt+oAAAAASUVORK5CYII=\n",
                "text/plain": "<Figure size 432x288 with 1 Axes>"
              },
              {
                "output_type": "stream",
                "metadata": {
                  "tags": []
                },
                "text": "              precision    recall  f1-score   support\n\n       False       0.82      0.87      0.85      6452\n        True       0.84      0.77      0.80      5428\n\n    accuracy                           0.83     11880\n   macro avg       0.83      0.82      0.82     11880\nweighted avg       0.83      0.83      0.83     11880\n\n",
                "stream": "stdout"
              },
              {
                "output_type": "display_data",
                "metadata": {
                  "tags": []
                },
                "image/png": "iVBORw0KGgoAAAANSUhEUgAAAWYAAAD4CAYAAADfPUyRAAAABHNCSVQICAgIfAhkiAAAAAlwSFlz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\nAElFTkSuQmCC\n",
                "text/plain": "<Figure size 432x288 with 2 Axes>"
              }
            ],
            "_view_module": "@jupyter-widgets/output",
            "_model_module_version": "1.0.0",
            "_view_count": null,
            "_view_module_version": "1.0.0",
            "layout": "IPY_MODEL_21f466b0208e41c39022a588a9d6bc07",
            "_model_module": "@jupyter-widgets/output"
          }
        },
        "215419e520d445848198b745e273ecb6": {
          "model_module": "@jupyter-widgets/controls",
          "model_name": "SliderStyleModel",
          "state": {
            "_view_name": "StyleView",
            "handle_color": null,
            "_model_name": "SliderStyleModel",
            "description_width": "",
            "_view_module": "@jupyter-widgets/base",
            "_model_module_version": "1.5.0",
            "_view_count": null,
            "_view_module_version": "1.2.0",
            "_model_module": "@jupyter-widgets/controls"
          }
        },
        "bedc91cc1916498095fc01a48f24638a": {
          "model_module": "@jupyter-widgets/base",
          "model_name": "LayoutModel",
          "state": {
            "_view_name": "LayoutView",
            "grid_template_rows": null,
            "right": null,
            "justify_content": null,
            "_view_module": "@jupyter-widgets/base",
            "overflow": null,
            "_model_module_version": "1.2.0",
            "_view_count": null,
            "flex_flow": null,
            "width": null,
            "min_width": null,
            "border": null,
            "align_items": null,
            "bottom": null,
            "_model_module": "@jupyter-widgets/base",
            "top": null,
            "grid_column": null,
            "overflow_y": null,
            "overflow_x": null,
            "grid_auto_flow": null,
            "grid_area": null,
            "grid_template_columns": null,
            "flex": null,
            "_model_name": "LayoutModel",
            "justify_items": null,
            "grid_row": null,
            "max_height": null,
            "align_content": null,
            "visibility": null,
            "align_self": null,
            "height": null,
            "min_height": null,
            "padding": null,
            "grid_auto_rows": null,
            "grid_gap": null,
            "max_width": null,
            "order": null,
            "_view_module_version": "1.2.0",
            "grid_template_areas": null,
            "object_position": null,
            "object_fit": null,
            "grid_auto_columns": null,
            "margin": null,
            "display": null,
            "left": null
          }
        }
      }
    }
  },
  "cells": [
    {
      "cell_type": "markdown",
      "metadata": {
        "id": "view-in-github",
        "colab_type": "text"
      },
      "source": [
        "<a href=\"https://colab.research.google.com/github/ivaben/DS-Unit-2-Kaggle-Challenge/blob/master/IVANA_BERN_assignment_4_Classification_Metrics.ipynb\" target=\"_parent\"><img src=\"https://colab.research.google.com/assets/colab-badge.svg\" alt=\"Open In Colab\"/></a>"
      ]
    },
    {
      "cell_type": "markdown",
      "metadata": {
        "id": "NXzM4Io9U4Q9",
        "colab_type": "text"
      },
      "source": [
        "Lambda School Data Science\n",
        "\n",
        "*Unit 2, Sprint 2, Module 4*\n",
        "\n",
        "---"
      ]
    },
    {
      "cell_type": "markdown",
      "metadata": {
        "colab_type": "text",
        "id": "nCc3XZEyG3XV"
      },
      "source": [
        "# Classification Metrics\n",
        "\n",
        "## Assignment\n",
        "- [ ] If you haven't yet, [review requirements for your portfolio project](https://lambdaschool.github.io/ds/unit2), then submit your dataset.\n",
        "- [ ] Plot a confusion matrix for your Tanzania Waterpumps model.\n",
        "- [ ] Continue to participate in our Kaggle challenge. Every student should have made at least one submission that scores at least 70% accuracy (well above the majority class baseline).\n",
        "- [ ] Submit your final predictions to our Kaggle competition. Optionally, go to **My Submissions**, and _\"you may select up to 1 submission to be used to count towards your final leaderboard score.\"_\n",
        "- [ ] Commit your notebook to your fork of the GitHub repo.\n",
        "- [ ] Read [Maximizing Scarce Maintenance Resources with Data: Applying predictive modeling, precision at k, and clustering to optimize impact](https://towardsdatascience.com/maximizing-scarce-maintenance-resources-with-data-8f3491133050), by Lambda DS3 student Michael Brady. His blog post extends the Tanzania Waterpumps scenario, far beyond what's in the lecture notebook.\n",
        "\n",
        "\n",
        "## Stretch Goals\n",
        "\n",
        "### Reading\n",
        "- [Attacking discrimination with smarter machine learning](https://research.google.com/bigpicture/attacking-discrimination-in-ml/), by Google Research, with  interactive visualizations. _\"A threshold classifier essentially makes a yes/no decision, putting things in one category or another. We look at how these classifiers work, ways they can potentially be unfair, and how you might turn an unfair classifier into a fairer one. As an illustrative example, we focus on loan granting scenarios where a bank may grant or deny a loan based on a single, automatically computed number such as a credit score.\"_\n",
        "- [Notebook about how to calculate expected value from a confusion matrix by treating it as a cost-benefit matrix](https://github.com/podopie/DAT18NYC/blob/master/classes/13-expected_value_cost_benefit_analysis.ipynb)\n",
        "- [Simple guide to confusion matrix terminology](https://www.dataschool.io/simple-guide-to-confusion-matrix-terminology/) by Kevin Markham, with video\n",
        "- [Visualizing Machine Learning Thresholds to Make Better Business Decisions](https://blog.insightdatascience.com/visualizing-machine-learning-thresholds-to-make-better-business-decisions-4ab07f823415)\n",
        "\n",
        "\n",
        "### Doing\n",
        "- [ ] Share visualizations in our Slack channel!\n",
        "- [ ] RandomizedSearchCV / GridSearchCV, for model selection. (See module 3 assignment notebook)\n",
        "- [ ] More Categorical Encoding. (See module 2 assignment notebook)\n",
        "- [ ] Stacking Ensemble. (See below)\n",
        "\n",
        "### Stacking Ensemble\n",
        "\n",
        "Here's some code you can use to \"stack\" multiple submissions, which is another form of ensembling:\n",
        "\n",
        "```python\n",
        "import pandas as pd\n",
        "\n",
        "# Filenames of your submissions you want to ensemble\n",
        "files = ['submission-01.csv', 'submission-02.csv', 'submission-03.csv']\n",
        "\n",
        "target = 'status_group'\n",
        "submissions = (pd.read_csv(file)[[target]] for file in files)\n",
        "ensemble = pd.concat(submissions, axis='columns')\n",
        "majority_vote = ensemble.mode(axis='columns')[0]\n",
        "\n",
        "sample_submission = pd.read_csv('sample_submission.csv')\n",
        "submission = sample_submission.copy()\n",
        "submission[target] = majority_vote\n",
        "submission.to_csv('my-ultimate-ensemble-submission.csv', index=False)\n",
        "```"
      ]
    },
    {
      "cell_type": "code",
      "metadata": {
        "colab_type": "code",
        "id": "lsbRiKBoB5RE",
        "colab": {}
      },
      "source": [
        "%%capture\n",
        "import sys\n",
        "\n",
        "# If you're on Colab:\n",
        "if 'google.colab' in sys.modules:\n",
        "    DATA_PATH = 'https://raw.githubusercontent.com/LambdaSchool/DS-Unit-2-Kaggle-Challenge/master/data/'\n",
        "    !pip install category_encoders==2.*\n",
        "\n",
        "# If you're working locally:\n",
        "else:\n",
        "    DATA_PATH = '../data/'"
      ],
      "execution_count": 0,
      "outputs": []
    },
    {
      "cell_type": "code",
      "metadata": {
        "colab_type": "code",
        "id": "BVA1lph8CcNX",
        "colab": {}
      },
      "source": [
        "import pandas as pd\n",
        "\n",
        "# Merge train_features.csv & train_labels.csv\n",
        "train = pd.merge(pd.read_csv(DATA_PATH+'waterpumps/train_features.csv'), \n",
        "                 pd.read_csv(DATA_PATH+'waterpumps/train_labels.csv'))\n",
        "\n",
        "# Read test_features.csv & sample_submission.csv\n",
        "test = pd.read_csv(DATA_PATH+'waterpumps/test_features.csv')\n",
        "sample_submission = pd.read_csv(DATA_PATH+'waterpumps/sample_submission.csv')"
      ],
      "execution_count": 0,
      "outputs": []
    },
    {
      "cell_type": "code",
      "metadata": {
        "id": "nrUFAkz_U4RO",
        "colab_type": "code",
        "outputId": "b640e88d-b28f-4175-a18c-3a03ab179b06",
        "colab": {
          "base_uri": "https://localhost:8080/",
          "height": 33
        }
      },
      "source": [
        "import matplotlib\n",
        "print(matplotlib.__version__)"
      ],
      "execution_count": 0,
      "outputs": [
        {
          "output_type": "stream",
          "text": [
            "3.1.2\n"
          ],
          "name": "stdout"
        }
      ]
    },
    {
      "cell_type": "code",
      "metadata": {
        "id": "lw7_KqqoWPhE",
        "colab_type": "code",
        "colab": {}
      },
      "source": [
        "%matplotlib inline\n",
        "import category_encoders as ce\n",
        "import matplotlib.pyplot as plt\n",
        "import numpy as np\n",
        "import pandas as pd\n",
        "import seaborn as sns\n",
        "from sklearn.impute import SimpleImputer\n",
        "from sklearn.metrics import accuracy_score\n",
        "from sklearn.model_selection import train_test_split\n",
        "from sklearn.pipeline import make_pipeline\n",
        "from sklearn.ensemble import RandomForestClassifier"
      ],
      "execution_count": 0,
      "outputs": []
    },
    {
      "cell_type": "code",
      "metadata": {
        "id": "g5tGM9MZWSX9",
        "colab_type": "code",
        "colab": {}
      },
      "source": [
        "# Split train into train and val\n",
        "train, val = train_test_split(train, train_size=0.80, test_size=0.20, stratify=train['status_group'], random_state=42)"
      ],
      "execution_count": 0,
      "outputs": []
    },
    {
      "cell_type": "code",
      "metadata": {
        "id": "XknswEJPWqG4",
        "colab_type": "code",
        "colab": {}
      },
      "source": [
        "# Wrangle train, val, test sets\n",
        "\n",
        "def wrangle(X):\n",
        "\n",
        "  X=X.copy()\n",
        "\n",
        "  X['latitude'] = X['latitude'].replace(-2e-08, 0)\n",
        "\n",
        "  cols_with_zeros = ['latitude','longitude', 'wpt_name', 'num_private', 'basin',\n",
        "                     'region_code', 'lga', 'construction_year','ward', 'management_group', 'water_quality', 'waterpoint_type_group', 'population', 'gps_height'\n",
        "                    ]\n",
        "  for col in cols_with_zeros:\n",
        "\n",
        "    X[col] = X[col].replace(0, np.nan)\n",
        "    X[col+'_MISSING'] = X[col].isnull()\n",
        "\n",
        "  # Drop duplicate columns\n",
        "  duplicates = ['quantity_group', 'payment_type', 'source_type']\n",
        "  X = X.drop(columns=duplicates)\n",
        "\n",
        " # Drop recorded_by (never varies) and id (always varies, random)\n",
        "  unusable_variance = ['recorded_by','id']\n",
        "  X = X.drop(columns=unusable_variance)\n",
        "\n",
        " # Convert date_recorded to datetime\n",
        "  X['date_recorded'] = pd.to_datetime(X['date_recorded'], infer_datetime_format=True)\n",
        "\n",
        " # Extract components from date_recorded, then drop the original column\n",
        "  X['year_recorded'] = X['date_recorded'].dt.year\n",
        "  X['month_recorded'] = X['date_recorded'].dt.month\n",
        "  X['day_recorded'] = X['date_recorded'].dt.day\n",
        "  X = X.drop(columns='date_recorded')\n",
        "\n",
        " # Engineer feature: how many years from construction_year to date_recorded\n",
        "\n",
        "  X['years'] = X['year_recorded'] - X['construction_year']\n",
        "  X['years_MISSING'] = X['years'].isnull()\n",
        " \n",
        "  return X\n",
        "\n",
        "train = wrangle(train)\n",
        "val = wrangle(val)\n",
        "test = wrangle(test)"
      ],
      "execution_count": 0,
      "outputs": []
    },
    {
      "cell_type": "code",
      "metadata": {
        "id": "1djNVjGFXEjN",
        "colab_type": "code",
        "colab": {}
      },
      "source": [
        "target = 'status_group'"
      ],
      "execution_count": 0,
      "outputs": []
    },
    {
      "cell_type": "code",
      "metadata": {
        "id": "gDGdZf19W0F9",
        "colab_type": "code",
        "colab": {}
      },
      "source": [
        "# Arrange data into X features matrix and y target vector\n",
        "X_train = train.drop(columns=target)\n",
        "y_train = train[target]\n",
        "X_val = val.drop(columns=target)\n",
        "y_val = val[target]\n",
        "X_test = test"
      ],
      "execution_count": 0,
      "outputs": []
    },
    {
      "cell_type": "code",
      "metadata": {
        "id": "NwEiZllXXOIa",
        "colab_type": "code",
        "outputId": "21af0954-5eba-49cf-d406-31b0c87c589e",
        "colab": {
          "base_uri": "https://localhost:8080/",
          "height": 33
        }
      },
      "source": [
        "# Make pipeline!\n",
        "pipeline = make_pipeline(\n",
        "    ce.OrdinalEncoder(), \n",
        "    SimpleImputer(strategy='mean'), \n",
        "    RandomForestClassifier(n_estimators=100, random_state=42, n_jobs=-1)\n",
        ")\n",
        "\n",
        "# Fit on train, score on val\n",
        "pipeline.fit(X_train, y_train)\n",
        "y_pred = pipeline.predict(X_val)\n",
        "print('Validation Accuracy', accuracy_score(y_val, y_pred))"
      ],
      "execution_count": 0,
      "outputs": [
        {
          "output_type": "stream",
          "text": [
            "Validation Accuracy 0.8106902356902357\n"
          ],
          "name": "stdout"
        }
      ]
    },
    {
      "cell_type": "code",
      "metadata": {
        "id": "PKhhdNbRXV5t",
        "colab_type": "code",
        "outputId": "298c7528-dfe8-475d-abf7-1161ce81d556",
        "colab": {
          "base_uri": "https://localhost:8080/",
          "height": 33
        }
      },
      "source": [
        "import sklearn\n",
        "sklearn.__version__"
      ],
      "execution_count": 0,
      "outputs": [
        {
          "output_type": "execute_result",
          "data": {
            "text/plain": [
              "'0.21.3'"
            ]
          },
          "metadata": {
            "tags": []
          },
          "execution_count": 123
        }
      ]
    },
    {
      "cell_type": "code",
      "metadata": {
        "id": "sFk4TfYrXdmi",
        "colab_type": "code",
        "outputId": "e95fb8bf-b869-41bb-cf9d-ac15adfe5fac",
        "colab": {
          "base_uri": "https://localhost:8080/",
          "height": 66
        }
      },
      "source": [
        "from sklearn.metrics import confusion_matrix\n",
        "confusion_matrix(y_val, y_pred)"
      ],
      "execution_count": 0,
      "outputs": [
        {
          "output_type": "execute_result",
          "data": {
            "text/plain": [
              "array([[5772,  148,  532],\n",
              "       [ 474,  248,  141],\n",
              "       [ 898,   56, 3611]])"
            ]
          },
          "metadata": {
            "tags": []
          },
          "execution_count": 124
        }
      ]
    },
    {
      "cell_type": "code",
      "metadata": {
        "id": "YsX2CUUsYkLz",
        "colab_type": "code",
        "outputId": "778db828-6ae2-4e16-faa8-ae77cda6ade0",
        "colab": {
          "base_uri": "https://localhost:8080/",
          "height": 50
        }
      },
      "source": [
        "# get labels\n",
        "from sklearn.utils.multiclass import unique_labels\n",
        "unique_labels(y_val)"
      ],
      "execution_count": 0,
      "outputs": [
        {
          "output_type": "execute_result",
          "data": {
            "text/plain": [
              "array(['functional', 'functional needs repair', 'non functional'],\n",
              "      dtype='<U23')"
            ]
          },
          "metadata": {
            "tags": []
          },
          "execution_count": 125
        }
      ]
    },
    {
      "cell_type": "code",
      "metadata": {
        "id": "SbGLh2OoYpt9",
        "colab_type": "code",
        "outputId": "72167416-8b91-4b5a-b3ac-682edd3a4257",
        "colab": {
          "base_uri": "https://localhost:8080/",
          "height": 116
        }
      },
      "source": [
        "# 1. Check that our labels are correct\n",
        "def plot_confusion_matrix(y_true, y_pred):\n",
        "    labels = unique_labels(y_true)\n",
        "    columns = [f'Predicted {label}' for label in labels]\n",
        "    index = [f'Actual {label}' for label in labels]\n",
        "    return columns, index\n",
        "\n",
        "plot_confusion_matrix(y_val, y_pred)"
      ],
      "execution_count": 0,
      "outputs": [
        {
          "output_type": "execute_result",
          "data": {
            "text/plain": [
              "(['Predicted functional',\n",
              "  'Predicted functional needs repair',\n",
              "  'Predicted non functional'],\n",
              " ['Actual functional',\n",
              "  'Actual functional needs repair',\n",
              "  'Actual non functional'])"
            ]
          },
          "metadata": {
            "tags": []
          },
          "execution_count": 126
        }
      ]
    },
    {
      "cell_type": "code",
      "metadata": {
        "id": "f2AAo8WWYwGI",
        "colab_type": "code",
        "outputId": "ce82d8f2-7da5-4edf-b858-3f75945837db",
        "colab": {
          "base_uri": "https://localhost:8080/",
          "height": 137
        }
      },
      "source": [
        " # 2. Make it a pandas dataframe\n",
        "def plot_confusion_matrix(y_true, y_pred):\n",
        "    labels = unique_labels(y_true)\n",
        "    columns = [f'Predicted {label}' for label in labels]\n",
        "    index = [f'Actual {label}' for label in labels]\n",
        "    table = pd.DataFrame(confusion_matrix(y_true, y_pred), \n",
        "                         columns=columns, index=index)\n",
        "    return table\n",
        "\n",
        "plot_confusion_matrix(y_val, y_pred)"
      ],
      "execution_count": 0,
      "outputs": [
        {
          "output_type": "execute_result",
          "data": {
            "text/html": [
              "<div>\n",
              "<style scoped>\n",
              "    .dataframe tbody tr th:only-of-type {\n",
              "        vertical-align: middle;\n",
              "    }\n",
              "\n",
              "    .dataframe tbody tr th {\n",
              "        vertical-align: top;\n",
              "    }\n",
              "\n",
              "    .dataframe thead th {\n",
              "        text-align: right;\n",
              "    }\n",
              "</style>\n",
              "<table border=\"1\" class=\"dataframe\">\n",
              "  <thead>\n",
              "    <tr style=\"text-align: right;\">\n",
              "      <th></th>\n",
              "      <th>Predicted functional</th>\n",
              "      <th>Predicted functional needs repair</th>\n",
              "      <th>Predicted non functional</th>\n",
              "    </tr>\n",
              "  </thead>\n",
              "  <tbody>\n",
              "    <tr>\n",
              "      <th>Actual functional</th>\n",
              "      <td>5772</td>\n",
              "      <td>148</td>\n",
              "      <td>532</td>\n",
              "    </tr>\n",
              "    <tr>\n",
              "      <th>Actual functional needs repair</th>\n",
              "      <td>474</td>\n",
              "      <td>248</td>\n",
              "      <td>141</td>\n",
              "    </tr>\n",
              "    <tr>\n",
              "      <th>Actual non functional</th>\n",
              "      <td>898</td>\n",
              "      <td>56</td>\n",
              "      <td>3611</td>\n",
              "    </tr>\n",
              "  </tbody>\n",
              "</table>\n",
              "</div>"
            ],
            "text/plain": [
              "                                Predicted functional  ...  Predicted non functional\n",
              "Actual functional                               5772  ...                       532\n",
              "Actual functional needs repair                   474  ...                       141\n",
              "Actual non functional                            898  ...                      3611\n",
              "\n",
              "[3 rows x 3 columns]"
            ]
          },
          "metadata": {
            "tags": []
          },
          "execution_count": 127
        }
      ]
    },
    {
      "cell_type": "code",
      "metadata": {
        "id": "RlJxmvEAY4t1",
        "colab_type": "code",
        "outputId": "1d31fdb8-efc4-44ab-88b2-22e5564ed707",
        "colab": {
          "base_uri": "https://localhost:8080/",
          "height": 422
        }
      },
      "source": [
        "# 3. Plot a heatmap\n",
        "import seaborn as sns\n",
        "def plot_confusion_matrix(y_true, y_pred):\n",
        "    labels = unique_labels(y_true)\n",
        "    columns = [f'Predicted {label}' for label in labels]\n",
        "    index = [f'Actual {label}' for label in labels]\n",
        "    table = pd.DataFrame(confusion_matrix(y_true, y_pred), \n",
        "                         columns=columns, index=index)\n",
        "    return sns.heatmap(table, annot=True, fmt='d', cmap='viridis')\n",
        "\n",
        "plot_confusion_matrix(y_val, y_pred);"
      ],
      "execution_count": 0,
      "outputs": [
        {
          "output_type": "display_data",
          "data": {
            "image/png": "[encoded data removed]",
            "text/plain": [
              "<Figure size 432x288 with 2 Axes>"
            ]
          },
          "metadata": {
            "tags": []
          }
        }
      ]
    },
    {
      "cell_type": "code",
      "metadata": {
        "id": "fohpFb-rY-_c",
        "colab_type": "code",
        "outputId": "dad8d3e2-d364-4b9e-c5ce-9f3a843eee69",
        "colab": {
          "base_uri": "https://localhost:8080/",
          "height": 33
        }
      },
      "source": [
        "# How many correct predictions were made?\n",
        "5772+248+3611"
      ],
      "execution_count": 0,
      "outputs": [
        {
          "output_type": "execute_result",
          "data": {
            "text/plain": [
              "9631"
            ]
          },
          "metadata": {
            "tags": []
          },
          "execution_count": 129
        }
      ]
    },
    {
      "cell_type": "code",
      "metadata": {
        "id": "ZpF2cA60ZLvl",
        "colab_type": "code",
        "outputId": "d6bca24c-3afb-46cc-c6f5-6165c06b7881",
        "colab": {
          "base_uri": "https://localhost:8080/",
          "height": 33
        }
      },
      "source": [
        "# How many total predictions were made?\n",
        "5772 + 148 + 532 + 474 + 248 + 141 + 898 + 56 + 3611"
      ],
      "execution_count": 0,
      "outputs": [
        {
          "output_type": "execute_result",
          "data": {
            "text/plain": [
              "11880"
            ]
          },
          "metadata": {
            "tags": []
          },
          "execution_count": 130
        }
      ]
    },
    {
      "cell_type": "code",
      "metadata": {
        "id": "KVj3ZhIEZY2t",
        "colab_type": "code",
        "outputId": "1080fa26-2617-4927-a9fd-d3398113a2f3",
        "colab": {
          "base_uri": "https://localhost:8080/",
          "height": 33
        }
      },
      "source": [
        "# What was the classification accuracy?\n",
        "\n",
        "correct_predictions = 9631\n",
        "total_predictions = 11880\n",
        "correct_predictions / total_predictions"
      ],
      "execution_count": 0,
      "outputs": [
        {
          "output_type": "execute_result",
          "data": {
            "text/plain": [
              "0.8106902356902357"
            ]
          },
          "metadata": {
            "tags": []
          },
          "execution_count": 131
        }
      ]
    },
    {
      "cell_type": "code",
      "metadata": {
        "id": "SxLLkHsWZk9J",
        "colab_type": "code",
        "outputId": "26d4d08f-92bc-4c13-a486-bf8e48943e2b",
        "colab": {
          "base_uri": "https://localhost:8080/",
          "height": 33
        }
      },
      "source": [
        "accuracy_score(y_val, y_pred)"
      ],
      "execution_count": 0,
      "outputs": [
        {
          "output_type": "execute_result",
          "data": {
            "text/plain": [
              "0.8106902356902357"
            ]
          },
          "metadata": {
            "tags": []
          },
          "execution_count": 132
        }
      ]
    },
    {
      "cell_type": "code",
      "metadata": {
        "id": "Rj0o1JKUexte",
        "colab_type": "code",
        "outputId": "dfcb460e-9014-4587-811b-0a384f3dbf89",
        "colab": {
          "base_uri": "https://localhost:8080/",
          "height": 33
        }
      },
      "source": [
        "sum(y_pred == y_val) / len(y_pred)"
      ],
      "execution_count": 0,
      "outputs": [
        {
          "output_type": "execute_result",
          "data": {
            "text/plain": [
              "0.8106902356902357"
            ]
          },
          "metadata": {
            "tags": []
          },
          "execution_count": 133
        }
      ]
    },
    {
      "cell_type": "code",
      "metadata": {
        "id": "SmLixr-3PSLu",
        "colab_type": "code",
        "outputId": "edecfcf4-02a1-4893-f17d-d8efe334e58c",
        "colab": {
          "base_uri": "https://localhost:8080/",
          "height": 183
        }
      },
      "source": [
        "#  Use classification metrics: precision, recall\n",
        "\n",
        "from sklearn.metrics import classification_report\n",
        "print(classification_report(y_val, y_pred))"
      ],
      "execution_count": 0,
      "outputs": [
        {
          "output_type": "stream",
          "text": [
            "                         precision    recall  f1-score   support\n",
            "\n",
            "             functional       0.81      0.89      0.85      6452\n",
            "functional needs repair       0.55      0.29      0.38       863\n",
            "         non functional       0.84      0.79      0.82      4565\n",
            "\n",
            "               accuracy                           0.81     11880\n",
            "              macro avg       0.73      0.66      0.68     11880\n",
            "           weighted avg       0.80      0.81      0.80     11880\n",
            "\n"
          ],
          "name": "stdout"
        }
      ]
    },
    {
      "cell_type": "code",
      "metadata": {
        "id": "QKuqNzkxPbzl",
        "colab_type": "code",
        "outputId": "12b2e9c5-7a85-45b8-a814-360439b67190",
        "colab": {
          "base_uri": "https://localhost:8080/",
          "height": 422
        }
      },
      "source": [
        "plot_confusion_matrix(y_val, y_pred);"
      ],
      "execution_count": 0,
      "outputs": [
        {
          "output_type": "display_data",
          "data": {
            "image/png": "[encoded data removed]",
            "text/plain": [
              "<Figure size 432x288 with 2 Axes>"
            ]
          },
          "metadata": {
            "tags": []
          }
        }
      ]
    },
    {
      "cell_type": "code",
      "metadata": {
        "id": "lvbwfkz_QCu5",
        "colab_type": "code",
        "colab": {}
      },
      "source": [
        "# How many correct predictions of \"non functional\"?\n",
        "\n",
        "correct_predictions_nonfunctional = 3611"
      ],
      "execution_count": 0,
      "outputs": []
    },
    {
      "cell_type": "code",
      "metadata": {
        "id": "_Ad7ifb0Qcx9",
        "colab_type": "code",
        "colab": {}
      },
      "source": [
        "# How many total predictions of \"non functional\"?\n",
        "\n",
        "total_predictions_nonfunctional = 3611 + 141 + 532"
      ],
      "execution_count": 0,
      "outputs": []
    },
    {
      "cell_type": "code",
      "metadata": {
        "id": "zVSBpOL1Qn3A",
        "colab_type": "code",
        "outputId": "46b0e4ee-65bc-40ef-fa89-35dcf24a5e13",
        "colab": {
          "base_uri": "https://localhost:8080/",
          "height": 33
        }
      },
      "source": [
        "# What's the precision for \"non functional\"?\n",
        "\n",
        "correct_predictions_nonfunctional / total_predictions_nonfunctional"
      ],
      "execution_count": 0,
      "outputs": [
        {
          "output_type": "execute_result",
          "data": {
            "text/plain": [
              "0.8429038281979458"
            ]
          },
          "metadata": {
            "tags": []
          },
          "execution_count": 138
        }
      ]
    },
    {
      "cell_type": "code",
      "metadata": {
        "id": "vb0Ob4cHQzTL",
        "colab_type": "code",
        "outputId": "1b941c15-b6dc-4352-e8d1-632568ff8e05",
        "colab": {
          "base_uri": "https://localhost:8080/",
          "height": 183
        }
      },
      "source": [
        "print(classification_report(y_val, y_pred))"
      ],
      "execution_count": 0,
      "outputs": [
        {
          "output_type": "stream",
          "text": [
            "                         precision    recall  f1-score   support\n",
            "\n",
            "             functional       0.81      0.89      0.85      6452\n",
            "functional needs repair       0.55      0.29      0.38       863\n",
            "         non functional       0.84      0.79      0.82      4565\n",
            "\n",
            "               accuracy                           0.81     11880\n",
            "              macro avg       0.73      0.66      0.68     11880\n",
            "           weighted avg       0.80      0.81      0.80     11880\n",
            "\n"
          ],
          "name": "stdout"
        }
      ]
    },
    {
      "cell_type": "code",
      "metadata": {
        "id": "1jnJl-RrQ2Ok",
        "colab_type": "code",
        "colab": {}
      },
      "source": [
        "# How many actual \"non functional\" waterpumps?\n",
        "\n",
        "actual_nonfunctional = 898 + 56 + 3611"
      ],
      "execution_count": 0,
      "outputs": []
    },
    {
      "cell_type": "code",
      "metadata": {
        "id": "P1AWMILORLwg",
        "colab_type": "code",
        "outputId": "9eaaeecc-e32b-44a3-ad18-b6afc3e9dd2f",
        "colab": {
          "base_uri": "https://localhost:8080/",
          "height": 33
        }
      },
      "source": [
        "# What's the recall for \"non functional\"?\n",
        "\n",
        "correct_predictions_nonfunctional / actual_nonfunctional "
      ],
      "execution_count": 0,
      "outputs": [
        {
          "output_type": "execute_result",
          "data": {
            "text/plain": [
              "0.7910186199342826"
            ]
          },
          "metadata": {
            "tags": []
          },
          "execution_count": 141
        }
      ]
    },
    {
      "cell_type": "code",
      "metadata": {
        "id": "dZ56dARESg9t",
        "colab_type": "code",
        "colab": {}
      },
      "source": [
        "# Understand the relationships between precision, recall, thresholds, and predicted probabilities, to help make decisions and allocate budgets"
      ],
      "execution_count": 0,
      "outputs": []
    },
    {
      "cell_type": "code",
      "metadata": {
        "id": "7Tyl_sKBSi9x",
        "colab_type": "code",
        "outputId": "23b1c937-58c8-46a3-a16a-e7c632de30a7",
        "colab": {
          "base_uri": "https://localhost:8080/",
          "height": 33
        }
      },
      "source": [
        "len(test)\n"
      ],
      "execution_count": 0,
      "outputs": [
        {
          "output_type": "execute_result",
          "data": {
            "text/plain": [
              "14358"
            ]
          },
          "metadata": {
            "tags": []
          },
          "execution_count": 143
        }
      ]
    },
    {
      "cell_type": "code",
      "metadata": {
        "id": "FvQn8T-iSnML",
        "colab_type": "code",
        "outputId": "df17dbaf-d47f-49ac-9170-2f3cf24c737e",
        "colab": {
          "base_uri": "https://localhost:8080/",
          "height": 33
        }
      },
      "source": [
        "len(train) + len(val)"
      ],
      "execution_count": 0,
      "outputs": [
        {
          "output_type": "execute_result",
          "data": {
            "text/plain": [
              "59400"
            ]
          },
          "metadata": {
            "tags": []
          },
          "execution_count": 144
        }
      ]
    },
    {
      "cell_type": "code",
      "metadata": {
        "id": "-pee-xPASpIB",
        "colab_type": "code",
        "outputId": "7d43e3fe-1450-4d61-f153-e277fe017d9a",
        "colab": {
          "base_uri": "https://localhost:8080/",
          "height": 83
        }
      },
      "source": [
        "y_train.value_counts(normalize=True)"
      ],
      "execution_count": 0,
      "outputs": [
        {
          "output_type": "execute_result",
          "data": {
            "text/plain": [
              "functional                 0.543077\n",
              "non functional             0.384238\n",
              "functional needs repair    0.072685\n",
              "Name: status_group, dtype: float64"
            ]
          },
          "metadata": {
            "tags": []
          },
          "execution_count": 145
        }
      ]
    },
    {
      "cell_type": "code",
      "metadata": {
        "id": "HBNh0mtuStuX",
        "colab_type": "code",
        "outputId": "bcbe61c9-e14f-4d4e-ec7b-d9da905faa2a",
        "colab": {
          "base_uri": "https://localhost:8080/",
          "height": 66
        }
      },
      "source": [
        "# We want to identify which waterpumps are non-functional or are functional but needs repair:\n",
        "\n",
        "y_train = y_train != 'functional'\n",
        "y_val = y_val != 'functional'\n",
        "y_train.value_counts(normalize=True)"
      ],
      "execution_count": 0,
      "outputs": [
        {
          "output_type": "execute_result",
          "data": {
            "text/plain": [
              "False    0.543077\n",
              "True     0.456923\n",
              "Name: status_group, dtype: float64"
            ]
          },
          "metadata": {
            "tags": []
          },
          "execution_count": 146
        }
      ]
    },
    {
      "cell_type": "code",
      "metadata": {
        "id": "360DVELJTBk7",
        "colab_type": "code",
        "outputId": "506720e8-c9e0-48f7-92c0-31e6296de99a",
        "colab": {
          "base_uri": "https://localhost:8080/",
          "height": 33
        }
      },
      "source": [
        "len(val) == len(test)"
      ],
      "execution_count": 0,
      "outputs": [
        {
          "output_type": "execute_result",
          "data": {
            "text/plain": [
              "False"
            ]
          },
          "metadata": {
            "tags": []
          },
          "execution_count": 147
        }
      ]
    },
    {
      "cell_type": "code",
      "metadata": {
        "id": "K_peypgsUiJh",
        "colab_type": "code",
        "colab": {}
      },
      "source": [
        "pipeline.fit(X_train, y_train)\n",
        "y_pred = pipeline.predict(X_val)"
      ],
      "execution_count": 0,
      "outputs": []
    },
    {
      "cell_type": "code",
      "metadata": {
        "id": "k7wccQIWUxcI",
        "colab_type": "code",
        "outputId": "3a45a434-0548-423a-8dbb-2c2935efba3a",
        "colab": {
          "base_uri": "https://localhost:8080/",
          "height": 264
        }
      },
      "source": [
        "plot_confusion_matrix(y_val, y_pred);"
      ],
      "execution_count": 0,
      "outputs": [
        {
          "output_type": "display_data",
          "data": {
            "image/png": "[encoded data removed]",
            "text/plain": [
              "<Figure size 432x288 with 2 Axes>"
            ]
          },
          "metadata": {
            "tags": []
          }
        }
      ]
    },
    {
      "cell_type": "code",
      "metadata": {
        "id": "iqoLJoXzU2Ew",
        "colab_type": "code",
        "outputId": "3c7ab53a-b1a8-4500-cc9b-cacdcba8a72e",
        "colab": {
          "base_uri": "https://localhost:8080/",
          "height": 33
        }
      },
      "source": [
        "# How many total predictions of \"True\" (\"non functional\" or \"functional needs repair\") ?\n",
        "\n",
        "4189+814"
      ],
      "execution_count": 0,
      "outputs": [
        {
          "output_type": "execute_result",
          "data": {
            "text/plain": [
              "5003"
            ]
          },
          "metadata": {
            "tags": []
          },
          "execution_count": 150
        }
      ]
    },
    {
      "cell_type": "code",
      "metadata": {
        "id": "k-L1hL5YVB0r",
        "colab_type": "code",
        "outputId": "737de3be-08b2-4fb5-f3f6-e16019845bb2",
        "colab": {
          "base_uri": "https://localhost:8080/",
          "height": 33
        }
      },
      "source": [
        "# Get predicted probabilities and plot the distribution\n",
        "# Discrete predictions\n",
        "pipeline.predict(X_val)"
      ],
      "execution_count": 0,
      "outputs": [
        {
          "output_type": "execute_result",
          "data": {
            "text/plain": [
              "array([ True,  True, False, ..., False,  True,  True])"
            ]
          },
          "metadata": {
            "tags": []
          },
          "execution_count": 151
        }
      ]
    },
    {
      "cell_type": "code",
      "metadata": {
        "id": "pXPzaEMvVROo",
        "colab_type": "code",
        "outputId": "16ca38c8-c57b-4419-de7e-45559dfac467",
        "colab": {
          "base_uri": "https://localhost:8080/",
          "height": 133
        }
      },
      "source": [
        "# Predicted probabilities\n",
        "pipeline.predict_proba(X_val)"
      ],
      "execution_count": 0,
      "outputs": [
        {
          "output_type": "execute_result",
          "data": {
            "text/plain": [
              "array([[0.32, 0.68],\n",
              "       [0.44, 0.56],\n",
              "       [0.79, 0.21],\n",
              "       ...,\n",
              "       [0.5 , 0.5 ],\n",
              "       [0.37, 0.63],\n",
              "       [0.02, 0.98]])"
            ]
          },
          "metadata": {
            "tags": []
          },
          "execution_count": 152
        }
      ]
    },
    {
      "cell_type": "code",
      "metadata": {
        "id": "W_ilMnFCVdqC",
        "colab_type": "code",
        "colab": {
          "base_uri": "https://localhost:8080/",
          "height": 33
        },
        "outputId": "683b704d-4e82-4065-9c0c-cf0394058dc9"
      },
      "source": [
        "# Predicted probabilities *for the positive class* ...\n",
        "pipeline.predict_proba(X_val)[:, 1]"
      ],
      "execution_count": 153,
      "outputs": [
        {
          "output_type": "execute_result",
          "data": {
            "text/plain": [
              "array([0.68, 0.56, 0.21, ..., 0.5 , 0.63, 0.98])"
            ]
          },
          "metadata": {
            "tags": []
          },
          "execution_count": 153
        }
      ]
    },
    {
      "cell_type": "code",
      "metadata": {
        "id": "fW0Q12OBVkTL",
        "colab_type": "code",
        "colab": {
          "base_uri": "https://localhost:8080/",
          "height": 33
        },
        "outputId": "a143a85e-09a0-4896-9834-ad61f0ca7a2e"
      },
      "source": [
        "# Make predicted probabilities into discrete predictions, using a \"threshold\"\n",
        "pipeline.predict_proba(X_val)[:, 1] > 0.5"
      ],
      "execution_count": 154,
      "outputs": [
        {
          "output_type": "execute_result",
          "data": {
            "text/plain": [
              "array([ True,  True, False, ..., False,  True,  True])"
            ]
          },
          "metadata": {
            "tags": []
          },
          "execution_count": 154
        }
      ]
    },
    {
      "cell_type": "code",
      "metadata": {
        "id": "AmrtQG_GVl8H",
        "colab_type": "code",
        "colab": {
          "base_uri": "https://localhost:8080/",
          "height": 264
        },
        "outputId": "f1e5f484-678b-4bd2-e16d-24231db70b0b"
      },
      "source": [
        "y_pred_proba = pipeline.predict_proba(X_val)[:, 1]\n",
        "sns.distplot(y_pred_proba);"
      ],
      "execution_count": 155,
      "outputs": [
        {
          "output_type": "display_data",
          "data": {
            "image/png": "[encoded data removed]",
            "text/plain": [
              "<Figure size 432x288 with 1 Axes>"
            ]
          },
          "metadata": {
            "tags": []
          }
        }
      ]
    },
    {
      "cell_type": "code",
      "metadata": {
        "id": "fRz382XNVtoi",
        "colab_type": "code",
        "colab": {
          "base_uri": "https://localhost:8080/",
          "height": 314
        },
        "outputId": "d7203d78-1ced-4567-c9a6-4b6d6ff5df3b"
      },
      "source": [
        "# Change the threshold\n",
        "threshold = 0.92\n",
        "\n",
        "y_pred_proba = pipeline.predict_proba(X_val)[:, 1]\n",
        "y_pred = y_pred_proba > threshold\n",
        "\n",
        "ax = sns.distplot(y_pred_proba)\n",
        "ax.axvline(threshold, color='red')\n",
        "\n",
        "pd.Series(y_pred).value_counts()"
      ],
      "execution_count": 156,
      "outputs": [
        {
          "output_type": "execute_result",
          "data": {
            "text/plain": [
              "False    10244\n",
              "True      1636\n",
              "dtype: int64"
            ]
          },
          "metadata": {
            "tags": []
          },
          "execution_count": 156
        },
        {
          "output_type": "display_data",
          "data": {
            "image/png": "[encoded data removed]",
            "text/plain": [
              "<Figure size 432x288 with 1 Axes>"
            ]
          },
          "metadata": {
            "tags": []
          }
        }
      ]
    },
    {
      "cell_type": "code",
      "metadata": {
        "id": "P1AxgpFoVy5w",
        "colab_type": "code",
        "colab": {
          "base_uri": "https://localhost:8080/",
          "height": 694,
          "referenced_widgets": [
            "59e1edd1261d4fe3996de98773ed8f85",
            "deab339183fa4d11993863576d178e38",
            "ffeee1b8620d40c793dabb6f67e10813",
            "0c8c0cbba2d447c485ed90cf7eebcc30",
            "215419e520d445848198b745e273ecb6",
            "bedc91cc1916498095fc01a48f24638a"
          ]
        },
        "outputId": "a2a6a8fe-d97d-4079-ebcf-9c00c4150f57"
      },
      "source": [
        "from ipywidgets import interact, fixed\n",
        "\n",
        "def set_threshold(y_true, y_pred_proba, threshold=0.5):\n",
        "    y_pred = y_pred_proba > threshold\n",
        "    ax = sns.distplot(y_pred_proba)\n",
        "    ax.axvline(threshold, color='red')\n",
        "    plt.show()\n",
        "    print(classification_report(y_true, y_pred))\n",
        "    plot_confusion_matrix(y_true, y_pred)\n",
        "\n",
        "interact(set_threshold, \n",
        "         y_true=fixed(y_val), \n",
        "         y_pred_proba=fixed(y_pred_proba), \n",
        "         threshold=(0, 1, 0.02));"
      ],
      "execution_count": 157,
      "outputs": [
        {
          "output_type": "display_data",
          "data": {
            "application/vnd.jupyter.widget-view+json": {
              "model_id": "59e1edd1261d4fe3996de98773ed8f85",
              "version_minor": 0,
              "version_major": 2
            },
            "text/plain": [
              "interactive(children=(FloatSlider(value=0.5, description='threshold', max=1.0, step=0.02), Output()), _dom_cla…"
            ]
          },
          "metadata": {
            "tags": []
          }
        }
      ]
    }
  ]
}